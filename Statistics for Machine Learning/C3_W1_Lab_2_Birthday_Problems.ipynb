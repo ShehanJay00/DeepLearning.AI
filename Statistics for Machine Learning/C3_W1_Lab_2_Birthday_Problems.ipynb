{
 "cells": [
  {
   "cell_type": "markdown",
   "id": "8db3caba",
   "metadata": {},
   "source": [
    "# Ungraded Lab: Birthday Problems\n",
    "\n",
    "Welcome! During this lab you will reinforce the notion of how counter-intuitive probabilities can be by taking a look at the famous birthday problem. In fact you will take a look at 4 variations of this problem. You can use one you have already seen the solution for, to try and come up with the solution for the next one, the results might surprise you!\n",
    "\n",
    "Let's get started!"
   ]
  },
  {
   "cell_type": "code",
   "execution_count": null,
   "id": "2d4d615c-0e4f-4001-a171-4d80e491e5ec",
   "metadata": {
    "tags": []
   },
   "outputs": [],
   "source": [
    "import numpy as np\n",
    "import matplotlib.pyplot as plt\n",
    "import utils\n",
    "\n",
    "%matplotlib widget"
   ]
  },
  {
   "cell_type": "markdown",
   "id": "7958a323",
   "metadata": {},
   "source": [
    "## Introduction to the problem\n",
    "\n",
    "All of these problems share a similar setting. You have a classroom full of students (the number may vary) and want to know the probabilities of two students having the same birthday or of any student having a particular birthday, anything along those lines. As mentioned before, you will see 4 variations of the problem.\n",
    "\n",
    "You can think of these problems in two ways:\n",
    "   - What is the minimum number of students `n` that need to be in the classroom to have a matching birthday with a given probability?\n",
    "   - Given `n` what is the probability of having a match?\n",
    "    \n",
    "Both ways model the situation from different angles but they are essentially covering the same.\n",
    "\n",
    "## Play the game of matching your birthday\n",
    "\n",
    "To further motivate this situation a game is presented. You can use the following cell to run an interactive game, it is very simple to use: you need to select your birthday (the year does not matter) in the dropdown widget and then you can click the `Simulate!` button to randomly create students until one of them has the same birthday as you. The left plot shows you the history of the result for each simulation and the right plot shows you the same information in a histogram so you can see how this variable distributes.\n",
    "\n",
    "You can try this for as long as you want so you get a sense of the probability distribution for this process (it is recommended to try it for at least 30 runs):"
   ]
  },
  {
   "cell_type": "code",
   "execution_count": 2,
   "id": "6f450c24",
   "metadata": {},
   "outputs": [
    {
     "data": {
      "application/vnd.jupyter.widget-view+json": {
       "model_id": "89e82832568944b5b30cc4c6addb6d7d",
       "version_major": 2,
       "version_minor": 0
      },
      "text/plain": [
       "DatePicker(value=None, description='Pick your bday', step=1, style=DescriptionStyle(description_width='initial…"
      ]
     },
     "metadata": {},
     "output_type": "display_data"
    },
    {
     "data": {
      "application/vnd.jupyter.widget-view+json": {
       "model_id": "e4dd13c679054886bf3c68246ec4a34e",
       "version_major": 2,
       "version_minor": 0
      },
      "text/plain": [
       "Button(description='Simulate!', style=ButtonStyle())"
      ]
     },
     "metadata": {},
     "output_type": "display_data"
    },
    {
     "data": {
      "application/vnd.jupyter.widget-view+json": {
       "model_id": "a24bb382436e4d2da6b77f9cd057a169",
       "version_major": 2,
       "version_minor": 0
      },
      "image/png": "[encoded data removed]",
      "text/html": [
       "\n",
       "            <div style=\"display: inline-block;\">\n",
       "                <div class=\"jupyter-widgets widget-label\" style=\"text-align: center;\">\n",
       "                    Figure\n",
       "                </div>\n",
       "                <img src='data:image/png;base64,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' width=1000.0/>\n",
       "            </div>\n",
       "        "
      ],
      "text/plain": [
       "Canvas(toolbar=Toolbar(toolitems=[('Home', 'Reset original view', 'home', 'home'), ('Back', 'Back to previous …"
      ]
     },
     "metadata": {},
     "output_type": "display_data"
    }
   ],
   "source": [
    "game = utils.your_bday()"
   ]
  },
  {
   "cell_type": "markdown",
   "id": "7ec3e024",
   "metadata": {},
   "source": [
    "## First Problem\n",
    "\n",
    "The first problem tries to answer the question: given a pre-defined date, what is the value of `n` such that the probability of having a match is greater than or equal to 0.5?\n",
    "\n",
    "<img src=\"./images/first.png\" style=\"height: 200px;\"/>\n",
    "\n",
    "Before taking a look at the analytical solution you will try to solve it by creating simulations with Python. For this purpose you can use the `simulate` helper function provided in the next cell. Run it to load this function which will be used shortly:"
   ]
  },
  {
   "cell_type": "code",
   "execution_count": 4,
   "id": "075e35c5-85f4-427f-9d63-b540aec4caa3",
   "metadata": {
    "tags": []
   },
   "outputs": [],
   "source": [
    "def simulate(problem_func, n_students=365, n_simulations=1000):\n",
    "    \n",
    "    # Initialize the counter of matches at 0\n",
    "    matches = 0\n",
    "    \n",
    "    # Run the simulation for the desired number of times\n",
    "    for _ in range(n_simulations):\n",
    "        \n",
    "        # If there is a match in the classroom add 1 to the counter of matches\n",
    "        if problem_func(n_students):\n",
    "            matches += 1\n",
    "    \n",
    "    # Return the ratio of number of matches / number of simulations\n",
    "    return matches/n_simulations"
   ]
  },
  {
   "cell_type": "markdown",
   "id": "0aa06656",
   "metadata": {},
   "source": [
    "This function returns the simulated probability for a given problem when you pass to it the number of students and the number of simulations and it has these two properties:\n",
    "\n",
    "   - The higher the number of students the higher the probability of a match.\n",
    "   - The higher the number of simulations the more accurate the simulated probability will be (This fact will be discussed further in Week 3. This is known as the Central Limit Theorem). \n",
    "\n",
    "This is pretty cool but how do you use this helper function? You need to pass another function to it that models the situation at hand. This other function should have two criteria so that `simulate` works as expected:\n",
    "\n",
    "   - It should receive the number of students as input.\n",
    "   - It should return True if there was a match or False otherwise.\n",
    "    \n",
    "You can create a function that models problem number 1 by running the following cell:"
   ]
  },
  {
   "cell_type": "code",
   "execution_count": 5,
   "id": "14557c4f-588f-40a9-8e4e-c188b947fe42",
   "metadata": {
    "tags": []
   },
   "outputs": [],
   "source": [
    "def problem_1(n_students):\n",
    "    \n",
    "    # Predefine a specific birthday\n",
    "    predef_bday = np.random.randint(0, 365)\n",
    "    \n",
    "    # Generate birthdays for every student\n",
    "    gen_bdays = np.random.randint(0, 365, (n_students))\n",
    "    \n",
    "    # Check if predefined bday is among students\n",
    "    return predef_bday in gen_bdays"
   ]
  },
  {
   "cell_type": "markdown",
   "id": "9e82157c",
   "metadata": {},
   "source": [
    "Now you can use these two functions in conjuction to get the probability of a match for a given classroom size. Notice that you can tweak the value of the `n` variable to simulate classrooms with different number of students. Also notice that this time the simulation is run 10,000 times instead of the default 1000. This gives you a more accurate simulated probability at the expense of taking longer to execute:"
   ]
  },
  {
   "cell_type": "code",
   "execution_count": 6,
   "id": "977e402e-58c2-45ab-9a7d-2d2095cae6d3",
   "metadata": {
    "tags": []
   },
   "outputs": [
    {
     "name": "stdout",
     "output_type": "stream",
     "text": [
      "The simulated probability of any student to have a bday equal to a predefined value is 0.2372 in a classroom with 100 students\n"
     ]
    }
   ],
   "source": [
    "n = 100 # try changing this value!\n",
    "simulated_prob = simulate(problem_1, n_students=n, n_simulations=10_000)\n",
    "\n",
    "print(f\"The simulated probability of any student to have a bday equal to a predefined value is {simulated_prob} in a classroom with {n} students\")"
   ]
  },
  {
   "cell_type": "markdown",
   "id": "07ca745b",
   "metadata": {},
   "source": [
    "This is very cool but it still has one major drawback: you would need to try a bunch of values for `n` before arriving at the solution. Instead of taking this approach you can generate a plot that shows the simulated probability as a function of the number of students in the classroom:"
   ]
  },
  {
   "cell_type": "code",
   "execution_count": null,
   "id": "5e201de4",
   "metadata": {},
   "outputs": [],
   "source": [
    "# Generate the simulated probability for every classroom\n",
    "simulated_probs_1 = [simulate(problem_1, n_students=n) for n in utils.big_classroom_sizes]\n",
    "\n",
    "# Create a scatterplot of simulated probabilities vs classroom size\n",
    "utils.plot_simulated_probs(simulated_probs_1, utils.big_classroom_sizes)"
   ]
  },
  {
   "cell_type": "markdown",
   "id": "ae84cc0c",
   "metadata": {},
   "source": [
    "Remember that this approach is a simulation and thus you are generating simulated (or approximated) probabilities. Because of this the curve is not completely smooth and you will get slightly different values every time you run the simulation.\n",
    "\n",
    "## Analytical Solution\n",
    "\n",
    "Now that you have built a stronger intuition, let's calculate explicitily the probability $P$ that at least one student in the room has the birthday the same as the pre-defined date. It is clear that $P = P(n)$, i.e., the value for $P$ depends on the number of students in the room and, as $n$ become large, $P(n)$ must become closer to $1$. With a formula for $P(n)$ we can then find the minimum $n$ such that $P(n) \\geq 0.5$. Let's suppose that a year has $365$ days.\n",
    "\n",
    "Let's consider $D$ the pre-defined birthday and suppose a student is selected at random. \n",
    "\n",
    "Defining the event $S_i$ as the $i$-th student has birthday in the day $D$. Then $P(S_i) = \\frac{1}{365}$, because there are $365$ equally likely possibilities for their birthday. So, using the **complement rule**, the probability that this student's birthday isn't day $D$ is $P(S_i^c) = 1 - P(S_i) = 1 - \\frac{1}{365}$. \n",
    "\n",
    "Note that this probability is the same for any student and we can fairily assume that each student's birthday is independent from each other. Consider the event $\\mathcal{S}$ the desired event, i.e., at least one student has birthday in day $D$. Note that:\n",
    "\n",
    "$\\mathcal{S}^c$ is the probability that **no student has birthday in day $D$** and this is the same as:\n",
    "\n",
    "- Student $1$ has birthday in a day different than D, AND\n",
    "- Student $2$ has birthday in a day different than D, AND,\n",
    "...\n",
    "- Student $k$ has birthday in a day different than D.\n",
    "\n",
    "With our definitions, this is just $S_1^c \\cap S_2^c \\cap \\ldots \\cap S_k^c.$ Therefore\n",
    "\n",
    "$\n",
    "\\begin{equation}\n",
    "\\begin{split}\n",
    "P(\\mathcal{S}) {} & = 1 - P(\\mathcal{S}^c) \\\\\n",
    "              & = 1 - P(S_1^c \\cap S_2^c \\cap \\ldots \\cap S_k^c) \\\\\n",
    "              & = 1 - P(S_1^c)P(S_2^c) \\cdots P(S_k^c) \\text{ (independence)}\\\\\n",
    "              & = 1 - (1 - \\frac{1}{365})^n.\n",
    "\\end{split}\n",
    "\\end{equation}\n",
    "$\n",
    "\n",
    "As you've expected, $P(\\mathcal{S}) = 1 - (1 - \\frac{1}{365})^n = P(n)$. Now, you are ready to answer the question: for wich value of $n$, $P(n) \\geq \\frac{1}{2}$?\n",
    "\n",
    "Well, $P(n) \\geq \\frac{1}{2}$ is equivalent to\n",
    "\n",
    "\\begin{align}\n",
    " 1 - \\left(1 - \\frac{1}{365}\\right)^n &\\geq \\frac{1}{2} \\textit{, passing 1 to the other side and inverting the inequality sign}\\\\\n",
    "\\left(1 - \\frac{1}{365}\\right)^n &\\leq \\frac{1}{2}\\\\\n",
    "\\left(\\frac{364}{365}\\right)^n &\\leq 2^{-1} \\\\\n",
    "\\ln{\\left(\\frac{364}{365}\\right)}^n &\\leq \\ln{2^{-1}} \\\\\n",
    "n \\ln{\\left(\\frac{364}{365}\\right)} &\\leq -\\ln{2}\\\\\n",
    "\\end{align}\n",
    "\n",
    "Now, using a calculator we can easily find that $\\ln{2} \\approx 0.693$ and $\\ln{\\frac{364}{365}} \\approx -0.003$, the last inequality becomes\n",
    "\n",
    "$$n \\cdot -0.003 \\leq -0.693,$$\n",
    "\n",
    "which is equivalent to $n \\geq \\frac{0.693}{0.003} = 253$. "
   ]
  },
  {
   "cell_type": "markdown",
   "id": "a326b10f",
   "metadata": {},
   "source": [
    "## Second Problem\n",
    "\n",
    "The second problem is very similar to the first one, with the difference that the predefined value is not previously defined but it is drawn from one of the students at random so it can be worded like this: given a classroom with `n` students, if you draw any student at random what is the value of `n` such that the probability of having a match with another student is greater than or equal to 0.5?\n",
    "\n",
    "<img src=\"./images/second.png\" style=\"height: 200px;\"/>\n",
    "\n",
    "You can reuse the `simulate` helper function defined earlier so the only thing left is to code the function that models this particular problem. **But before doing this try to come up with a hypothesis about the result. What do you think will happen? Will `n` be similar to the previous one or do you need a higher value? What about a smaller value?**\n",
    "\n",
    "Run the next cells to find out!"
   ]
  },
  {
   "cell_type": "code",
   "execution_count": 3,
   "id": "b83a13c5-812d-4637-95da-8fc4058178ec",
   "metadata": {
    "tags": []
   },
   "outputs": [],
   "source": [
    "def problem_2(n_students):\n",
    "    \n",
    "    # Generate birthdays for every student\n",
    "    gen_bdays = np.random.randint(0, 365, (n_students))\n",
    "    \n",
    "    # Pick one student at random\n",
    "    rnd_index = np.random.randint(0, len(gen_bdays))\n",
    "    \n",
    "    # Get the bday from the selected student\n",
    "    rnd_bday = gen_bdays[rnd_index]\n",
    "    \n",
    "    # Take the bday out of the pool of bdays (otherwise there is always a match)\n",
    "    remaining_bdays = np.delete(gen_bdays, rnd_index, axis=0)\n",
    "    \n",
    "    # Check if another student shares the same bday\n",
    "    return rnd_bday in remaining_bdays"
   ]
  },
  {
   "cell_type": "code",
   "execution_count": 4,
   "id": "a826e6e3-be69-42b5-8995-3c13239b05ee",
   "metadata": {
    "tags": []
   },
   "outputs": [
    {
     "ename": "NameError",
     "evalue": "name 'simulate' is not defined",
     "output_type": "error",
     "traceback": [
      "\u001b[0;31m---------------------------------------------------------------------------\u001b[0m",
      "\u001b[0;31mNameError\u001b[0m                                 Traceback (most recent call last)",
      "Cell \u001b[0;32mIn[4], line 2\u001b[0m\n\u001b[1;32m      1\u001b[0m \u001b[38;5;66;03m# Generate the simulated probability for every classroom\u001b[39;00m\n\u001b[0;32m----> 2\u001b[0m simulated_probs_2 \u001b[38;5;241m=\u001b[39m [simulate(problem_2, n_students\u001b[38;5;241m=\u001b[39mn) \u001b[38;5;28;01mfor\u001b[39;00m n \u001b[38;5;129;01min\u001b[39;00m utils\u001b[38;5;241m.\u001b[39mbig_classroom_sizes]\n\u001b[1;32m      4\u001b[0m \u001b[38;5;66;03m# Create a scatterplot of simulated probabilities vs classroom size\u001b[39;00m\n\u001b[1;32m      5\u001b[0m utils\u001b[38;5;241m.\u001b[39mplot_simulated_probs(simulated_probs_2, utils\u001b[38;5;241m.\u001b[39mbig_classroom_sizes)\n",
      "Cell \u001b[0;32mIn[4], line 2\u001b[0m, in \u001b[0;36m<listcomp>\u001b[0;34m(.0)\u001b[0m\n\u001b[1;32m      1\u001b[0m \u001b[38;5;66;03m# Generate the simulated probability for every classroom\u001b[39;00m\n\u001b[0;32m----> 2\u001b[0m simulated_probs_2 \u001b[38;5;241m=\u001b[39m [\u001b[43msimulate\u001b[49m(problem_2, n_students\u001b[38;5;241m=\u001b[39mn) \u001b[38;5;28;01mfor\u001b[39;00m n \u001b[38;5;129;01min\u001b[39;00m utils\u001b[38;5;241m.\u001b[39mbig_classroom_sizes]\n\u001b[1;32m      4\u001b[0m \u001b[38;5;66;03m# Create a scatterplot of simulated probabilities vs classroom size\u001b[39;00m\n\u001b[1;32m      5\u001b[0m utils\u001b[38;5;241m.\u001b[39mplot_simulated_probs(simulated_probs_2, utils\u001b[38;5;241m.\u001b[39mbig_classroom_sizes)\n",
      "\u001b[0;31mNameError\u001b[0m: name 'simulate' is not defined"
     ]
    }
   ],
   "source": [
    "# Generate the simulated probability for every classroom\n",
    "simulated_probs_2 = [simulate(problem_2, n_students=n) for n in utils.big_classroom_sizes]\n",
    "\n",
    "# Create a scatterplot of simulated probabilities vs classroom size\n",
    "utils.plot_simulated_probs(simulated_probs_2, utils.big_classroom_sizes)"
   ]
  },
  {
   "cell_type": "markdown",
   "id": "a158970e",
   "metadata": {},
   "source": [
    "## Analytical Solution\n",
    "\n",
    "Note that this problem is very similar to the first one. The difference is that, instead of selecting one day $D$ at random from the room, you select a student and fix their birthday $D$. You can reduce this problem to the previous one by removing this student from the room and considering now a room with $n-1$ students. The problem now is analogous to the previous one but you will end up with a  $n-1$ instead of $n$. Therefore, it is easy to see that, in this case,\n",
    "\n",
    "$$P(n) = 1 - \\left(1 - \\frac{1}{365} \\right)^{n-1}.$$\n",
    "\n",
    "With some calculations you get that $P(n) \\geq \\frac{1}{2}$ if and only if $n \\geq {\\frac{0.693}{0.003}} + 1 = 254$."
   ]
  },
  {
   "cell_type": "markdown",
   "id": "da320d6d",
   "metadata": {},
   "source": [
    "## Third Problem\n",
    "\n",
    "The third one is the most famous of all the birthday problems and it was covered in the lectures in a sligthly different way.\n",
    "\n",
    "This time you don't want to find a match with a predefined value but rather to find a match between any two birthdays, it can be worded like this: given a classroom with students, what is the value of `n` such that the probability of having a match is greater than or equal to 0.5 for any two students?\n",
    "\n",
    "<img src=\"./images/third.png\" style=\"height: 200px;\"/>\n",
    "\n",
    "Note that, in the lectures, it was calculated the probability that **no students share a birthday**. Here, you are dealing with the case that, **at least two students share a birthday**, which is the *complement* of the question discussed in the lecture.\n",
    "\n",
    "Before doing the simulation as with previous problems ask yourself: **Do you think that the value of `n` will be similar to that of the previous problems? If you have to guess would you say it needs to be greater than or lower?**\n",
    "\n",
    "To help you out run the next cell to play an interactive version of this problem. The instructions are simple:\n",
    "\n",
    "   - To start a new simulation click anywhere on the upper panel (just below where the `Figure` headline appears)\n",
    "   - The upper panel shows randomly generated birthdays and let's you know when there is a match between two students\n",
    "   - The bottom left panel keeps track of the number of students required to have a match for every run\n",
    "   - The bottom right panel shows that same information as a histogram\n",
    "   - **Try running the simulation at least 30 times to get a sense of how this particular problem behaves**"
   ]
  },
  {
   "cell_type": "code",
   "execution_count": 5,
   "id": "4690bde7",
   "metadata": {},
   "outputs": [
    {
     "data": {
      "application/vnd.jupyter.widget-view+json": {
       "model_id": "be2aa8e8d96341b3b3bd652b85099732",
       "version_major": 2,
       "version_minor": 0
      },
      "image/png": "[encoded data removed]",
      "text/html": [
       "\n",
       "            <div style=\"display: inline-block;\">\n",
       "                <div class=\"jupyter-widgets widget-label\" style=\"text-align: center;\">\n",
       "                    Figure\n",
       "                </div>\n",
       "                <img src='data:image/png;base64,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' width=1000.0/>\n",
       "            </div>\n",
       "        "
      ],
      "text/plain": [
       "Canvas(toolbar=Toolbar(toolitems=[('Home', 'Reset original view', 'home', 'home'), ('Back', 'Back to previous …"
      ]
     },
     "metadata": {},
     "output_type": "display_data"
    }
   ],
   "source": [
    "game_third_prob = utils.third_bday_problem()"
   ]
  },
  {
   "cell_type": "markdown",
   "id": "40186804",
   "metadata": {},
   "source": [
    "Now you should have a hypothesis of the number of students in the classroom needed for the match. Test your intuition by generating the simulated probabilities as before:"
   ]
  },
  {
   "cell_type": "code",
   "execution_count": null,
   "id": "fdc9a19c-2a85-4bae-9b57-1f3b0611da6c",
   "metadata": {
    "tags": []
   },
   "outputs": [],
   "source": [
    "def problem_3(n_students):\n",
    "    \n",
    "    # Generate birthdays for every student\n",
    "    gen_bdays = np.random.randint(0, 365, (n_students))\n",
    "    \n",
    "    # Get array containing unique bdays\n",
    "    unique_bdays = np.array(list(set(gen_bdays)))\n",
    "    \n",
    "    # Check that both the original and unique arrays have the same length \n",
    "    # (if so then no two students share the same bday)\n",
    "    return len(unique_bdays) != len(gen_bdays)"
   ]
  },
  {
   "cell_type": "code",
   "execution_count": null,
   "id": "083a603c-e5a4-4adf-a2f6-cf0045081da7",
   "metadata": {
    "tags": []
   },
   "outputs": [],
   "source": [
    "# Generate the simulated probability for every classroom\n",
    "simulated_probs_3 = [simulate(problem_3, n_students=n) for n in utils.small_classroom_sizes]\n",
    "\n",
    "# Create a scatterplot of simulated probabilities vs classroom size\n",
    "utils.plot_simulated_probs(simulated_probs_3, utils.small_classroom_sizes)"
   ]
  },
  {
   "cell_type": "markdown",
   "id": "9075640c",
   "metadata": {},
   "source": [
    "## Analytical solution\n",
    "\n",
    "This problem is a bit different from the previous two, so you will need to make some calculations again. Now, the idea is to perform the calculation by steps, selecting one student at time. So let's define $Q_i$ as the probability that the $i$-th student has birthday different from the previous students. Note that $Q_1 = 1$, because there is no previous student. Note also that,\n",
    "\n",
    "$$Q_2 = \\frac{364}{365}.$$\n",
    "\n",
    "This is because, given that you've selected one student, the second has $364$ possible values, it has a chance of $\\frac{364}{365}$ of not matching birthdays with the first. Now, for $Q_3$, there are $2$ selected students with different birthdays, so the probability that the third student not matches any of the previous two is:\n",
    "\n",
    "$$Q_3 = \\frac{363}{365}.$$\n",
    "\n",
    "Inductively, if we select $n$ students, then $$Q_n = \\frac{365 - (n-1)}{365}.$$\n",
    "\n",
    "Since we assume that we are choosing students independently from each other, then the probability of picking $n$ students that **don't have their birthday in common** is just the product of all $Q_n$. Let's call it $Q$, so:\n",
    "\n",
    "$$Q = Q_1 \\cdot Q_2 \\cdot \\ldots \\cdot Q_{n-1} \\cdot Q_n = 1 \\cdot \\frac{364}{365} \\cdot \\frac{363}{365} \\cdot \\ldots \\cdot \\frac{365 - (n-2)}{365} \\cdot \\frac{365 - (n-1)}{365}.$$\n",
    "\n",
    "The desired probability is, therefore, $P:= 1 - Q$, since we want the probability of **at least two students match their birthday** (this is just the complement rule).\n",
    "\n",
    "Note that we could just write a small program in Python to compute this value for every $n$ and return the first value that achieves the inequality we want ($P \\geq \\frac{1}{2}$), but for sake of completion we will provide an analytic solution.\n",
    "\n",
    "We will use the following approximation: $1 - x \\approx e^{-x}$ for $x$ small and positive. We can re-write $Q$ as\n",
    "\n",
    "$$Q = 1 \\cdot \\frac{364}{365} \\cdot \\frac{363}{365} \\cdot \\ldots \\cdot \\frac{365 - (n-2)}{365} \\cdot \\frac{365 - (n-1)}{365} \n",
    "    = \\left(1 - \\frac{1}{365} \\right) \\cdot \\left(1 - \\frac{2}{365} \\right) \\cdot \\ldots \\cdot \\left(1 - \\frac{n-2}{365} \\right) \\cdot \\left(1 - \\frac{n-1}{365} \\right).$$\n",
    "\n",
    "Thus, using the approximation:\n",
    "\n",
    "$$Q \\approx e^{-\\frac{1}{365}} \\cdot e^{-\\frac{2}{365}} \\cdot \\ldots \\cdot e^{-\\frac{n-2}{365}} \\cdot e^{-\\frac{n-1}{365}} = e^{- \\frac{1 + 2 + \\ldots + (n-1)}{365}}.$$\n",
    "\n",
    "Using the formula $1 + 2 + \\ldots + (n-1) = \\frac{n(n-1)}{2}$ (this is the sum of the first $n-1$ terms of a arithmetic progression with first term $1$ and common difference $1$), we have:\n",
    "\n",
    "$$Q \\approx e^{-\\frac{n(n-1)}{730}}.$$\n",
    "\n",
    "So, $P = 1 - Q = 1 - e^{-\\frac{n(n-1)}{730}}$ and $P \\geq \\frac{1}{2}$ is equivalent to $1 - e^{-\\frac{n(n-1)}{730}} \\geq \\frac{1}{2}$ which is equivalent to $\\frac{n(n-1)}{730} \\geq \\ln 2$, i.e., $n(n-1) \\geq 730 \\cdot \\ln 2$. Since $\\ln 2 \\approx 0.6931$, so $$n(n-1) \\geq 505.96 \\geq 505.$$\n",
    "\n",
    "Solving the quadratic equation $n(n-1) = 505$, the only positive value for $n$ is $n = \\frac{1 + \\sqrt{2021}}{2} \\approx 23.$\n",
    "\n",
    "Therefore, if $n\\geq23$ then $P \\geq \\frac{1}{2}$."
   ]
  },
  {
   "cell_type": "markdown",
   "id": "0106c0d8",
   "metadata": {},
   "source": [
    "## Fourth Problem\n",
    "\n",
    "The fourth and final one is similar to the third problem but with the difference that you have two classrooms and want to find a match between a student in one classroom and a student in the other, presenting it like a question it will be: given two classrooms with `n` students, what is the value of `n` such that the probability of having a match is greater than or equal to 0.5 for any two students in each classroom?\n",
    "\n",
    "<img src=\"./images/fourth.png\" style=\"height: 200px;\"/>\n",
    "\n",
    "**Once again try to come up with your own hypothesis before doing the simulation!**"
   ]
  },
  {
   "cell_type": "code",
   "execution_count": null,
   "id": "52476294-746a-4676-b898-a5c3563a5dbd",
   "metadata": {
    "tags": []
   },
   "outputs": [],
   "source": [
    "def problem_4(n_students):\n",
    "    \n",
    "    # Generate birthdays for every student in classroom 1\n",
    "    gen_bdays_1 = np.random.randint(0, 365, (n_students))\n",
    "    \n",
    "    # Generate birthdays for every student in classroom 2\n",
    "    gen_bdays_2 = np.random.randint(0, 365, (n_students))\n",
    "    \n",
    "    # Check for any match between both classrooms\n",
    "    return np.isin(gen_bdays_1, gen_bdays_2).any()"
   ]
  },
  {
   "cell_type": "code",
   "execution_count": null,
   "id": "411889a8-317b-435a-85be-bec3f94edbf0",
   "metadata": {
    "tags": []
   },
   "outputs": [],
   "source": [
    "# Generate the simulated probability for every classroom\n",
    "simulated_probs_4 = [simulate(problem_4, n_students=n) for n in utils.small_classroom_sizes]\n",
    "\n",
    "# Create a scatterplot of simulated probabilities vs classroom size\n",
    "utils.plot_simulated_probs(simulated_probs_4, utils.small_classroom_sizes)"
   ]
  },
  {
   "cell_type": "markdown",
   "id": "7fbc564d",
   "metadata": {},
   "source": [
    "## Analytical solution\n",
    "\n",
    "The solution to this problem is similar to the first one. Now, instead of only **one** date, there are $n$ dates to compare. \n",
    "Remember that if we have only one date $D$ to compare than the probability, let's say $Q_1$ of having **no** student with birthday $D$ is $Q_1 = (1 - \\frac{1}{365})^n$ (the complement of $P(\\mathcal{S})$ in that case). Now we proceed as problem three, by having independent samples of students. For each student sampled, the probability $Q_i$ is $(1 - \\frac{1}{365})^n$, so the probability of no student matches any of the $n$ given dates is therefore\n",
    "\n",
    "$$Q = Q_1 \\cdot Q_2 \\cdot \\ldots \\cdot Q_{n-1} \\cdot Q_n = (1 - \\frac{1}{365})^{n^2}$$\n",
    "\n",
    "Using the approximation $1 - x \\approx e^{-x}$ for $x$ small,\n",
    "\n",
    "$$Q \\approx e^{-\\frac{n^2}{365}}$$\n",
    "\n",
    "Therefore, $$P(n) \\approx 1 - e^{-\\frac{n^2}{365}}.$$ \n",
    "\n",
    "Thus, $P(n) \\geq \\frac{1}{2}$ if $n \\geq \\sqrt{\\ln 2 \\cdot 365} \\approx 15.9 \\geq 15$"
   ]
  },
  {
   "cell_type": "markdown",
   "id": "1597e9d7",
   "metadata": {},
   "source": [
    "**Congratulations! You have finished the ungraded lab on the Birthday problems!**"
   ]
  }
 ],
 "metadata": {
  "kernelspec": {
   "display_name": "Python 3 (ipykernel)",
   "language": "python",
   "name": "python3"
  },
  "language_info": {
   "codemirror_mode": {
    "name": "ipython",
    "version": 3
   },
   "file_extension": ".py",
   "mimetype": "text/x-python",
   "name": "python",
   "nbconvert_exporter": "python",
   "pygments_lexer": "ipython3",
   "version": "3.10.9"
  }
 },
 "nbformat": 4,
 "nbformat_minor": 5
}
